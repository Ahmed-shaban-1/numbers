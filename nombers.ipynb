{
 "cells": [
  {
   "cell_type": "code",
   "execution_count": 33,
   "id": "7ad2b3e8",
   "metadata": {},
   "outputs": [
    {
     "name": "stdout",
     "output_type": "stream",
     "text": [
      "nomber grater than 50 123\n",
      "nomber grater than 50 23123\n",
      "nomber grater than 50 21312\n",
      "nomber grater than 50 231\n",
      "sum of numbers :  0\n"
     ]
    }
   ],
   "source": [
    "numbers_input = input(\"Enter numbers separated by commas: \")\n",
    "numbers = [int(n.strip()) for n in numbers_input.split(\",\")]\n",
    "les_than_50 =[]\n",
    "for e in numbers :\n",
    "    if (e) >= 50:\n",
    "        print(\"nomber grater than 50\", (e))\n",
    "    else:\n",
    "        les_than_50.append(e)\n",
    "som=sum(les_than_50)\n",
    "print(\"sum of numbers : \" , som )"
   ]
  }
 ],
 "metadata": {
  "kernelspec": {
   "display_name": "Python 3",
   "language": "python",
   "name": "python3"
  },
  "language_info": {
   "codemirror_mode": {
    "name": "ipython",
    "version": 3
   },
   "file_extension": ".py",
   "mimetype": "text/x-python",
   "name": "python",
   "nbconvert_exporter": "python",
   "pygments_lexer": "ipython3",
   "version": "3.13.7"
  }
 },
 "nbformat": 4,
 "nbformat_minor": 5
}
