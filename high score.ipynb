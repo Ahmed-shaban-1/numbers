{
 "cells": [
  {
   "cell_type": "code",
   "execution_count": 3,
   "id": "1e145982",
   "metadata": {},
   "outputs": [
    {
     "name": "stdout",
     "output_type": "stream",
     "text": [
      "Highest score: 123231\n",
      "Number of students who scored above 50: 9\n",
      "Average score: 19558.86\n",
      "Scores below 30 removed: 2, 5, 7, 23\n"
     ]
    }
   ],
   "source": [
    "scores = [2, 5, 7, 42, 23, 499, 23468, 2349, 123 ,123,123123,123231,345,484]\n",
    "\n",
    "\n",
    "highest_score = max(scores)\n",
    "print(\"Highest score:\", highest_score)\n",
    "\n",
    "above_50_count = sum(1 for score in scores if score > 50)\n",
    "print(\"Number of students who scored above 50:\", above_50_count)\n",
    "\n",
    "\n",
    "average_score = sum(scores) / len(scores)\n",
    "print(\"Average score:\", round(average_score, 2)) \n",
    "\n",
    "\n",
    "removed_scores = []\n",
    "\n",
    "\n",
    "i = 0\n",
    "while i < len(scores):\n",
    "    if scores[i] < 30:\n",
    "        removed_scores.append(scores.pop(i))  \n",
    "    else:\n",
    "        i += 1  \n",
    "\n",
    "\n",
    "print(\"Scores below 30 removed:\", \", \".join(map(str, removed_scores)))"
   ]
  }
 ],
 "metadata": {
  "kernelspec": {
   "display_name": "Python 3",
   "language": "python",
   "name": "python3"
  },
  "language_info": {
   "codemirror_mode": {
    "name": "ipython",
    "version": 3
   },
   "file_extension": ".py",
   "mimetype": "text/x-python",
   "name": "python",
   "nbconvert_exporter": "python",
   "pygments_lexer": "ipython3",
   "version": "3.13.7"
  }
 },
 "nbformat": 4,
 "nbformat_minor": 5
}
